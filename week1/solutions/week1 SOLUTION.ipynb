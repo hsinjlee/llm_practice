{
 "cells": [
  {
   "cell_type": "markdown",
   "id": "fe12c203-e6a6-452c-a655-afb8a03a4ff5",
   "metadata": {},
   "source": [
    "# End of week 1 solution\n",
    "\n",
    "To demonstrate your familiarity with OpenAI API, and also Ollama, build a tool that takes a technical question,  \n",
    "and responds with an explanation. This is a tool that you will be able to use yourself during the course!\n",
    "\n",
    "After week 2 you'll be able to add a User Interface to this tool, giving you a valuable application."
   ]
  },
  {
   "cell_type": "code",
   "execution_count": 1,
   "id": "c1070317-3ed9-4659-abe3-828943230e03",
   "metadata": {},
   "outputs": [],
   "source": [
    "# imports\n",
    "\n",
    "from dotenv import load_dotenv\n",
    "from IPython.display import Markdown, display, update_display\n",
    "from openai import OpenAI\n",
    "import ollama"
   ]
  },
  {
   "cell_type": "code",
   "execution_count": 2,
   "id": "4a456906-915a-4bfd-bb9d-57e505c5093f",
   "metadata": {},
   "outputs": [],
   "source": [
    "# constants\n",
    "\n",
    "MODEL_GPT = 'gpt-4o-mini'\n",
    "MODEL_LLAMA = 'llama3.2'"
   ]
  },
  {
   "cell_type": "code",
   "execution_count": 3,
   "id": "a8d7923c-5f28-4c30-8556-342d7c8497c1",
   "metadata": {},
   "outputs": [],
   "source": [
    "# set up environment\n",
    "\n",
    "load_dotenv()\n",
    "openai = OpenAI()"
   ]
  },
  {
   "cell_type": "code",
   "execution_count": 4,
   "id": "3f0d0137-52b0-47a8-81a8-11a90a010798",
   "metadata": {},
   "outputs": [],
   "source": [
    "# here is the question; type over this to ask something new\n",
    "\n",
    "question = \"\"\"\n",
    "Please explain what this code does and why:\n",
    "yield from {book.get(\"author\") for book in books if book.get(\"author\")}\n",
    "\"\"\""
   ]
  },
  {
   "cell_type": "code",
   "execution_count": 5,
   "id": "8595807b-8ae2-4e1b-95d9-e8532142e8bb",
   "metadata": {},
   "outputs": [],
   "source": [
    "# prompts\n",
    "\n",
    "system_prompt = \"You are a helpful technical tutor who answers questions about python code, software engineering, data science and LLMs\"\n",
    "user_prompt = \"Please give a detailed explanation to the following question: \" + question"
   ]
  },
  {
   "cell_type": "code",
   "execution_count": 6,
   "id": "9605cbb6-3d3f-4969-b420-7f4cae0b9328",
   "metadata": {},
   "outputs": [],
   "source": [
    "# messages\n",
    "\n",
    "messages = [\n",
    "    {\"role\": \"system\", \"content\": system_prompt},\n",
    "    {\"role\": \"user\", \"content\": user_prompt}\n",
    "]"
   ]
  },
  {
   "cell_type": "code",
   "execution_count": 7,
   "id": "60ce7000-a4a5-4cce-a261-e75ef45063b4",
   "metadata": {},
   "outputs": [
    {
     "data": {
      "text/markdown": [
       "This code utilizes Python's generator functionality along with a set comprehension. Let's break down the components of this line of code step by step:\n",
       "\n",
       "### Explanation of Components\n",
       "\n",
       "1. **`yield from`:** \n",
       "   - This is a keyword used in generator functions to yield all values from an iterable (like a list, set, or another generator) without having to explicitly loop through it.\n",
       "   - By using `yield from`, it allows the generator to yield multiple values and simplifies the code when working with iterators.\n",
       "\n",
       "2. **Set Comprehension:**\n",
       "   - The part within the curly braces `{...}` is a set comprehension. It creates a set, which is an unordered collection of unique elements.\n",
       "   - The set comprehension iterates over `books`, a presumed iterable (like a list of dictionaries where each dictionary represents a book).\n",
       "\n",
       "3. **`book.get(\"author\")`:**\n",
       "   - The `get` method is used on each dictionary `book` within the books collection. It retrieves the value associated with the key `\"author\"`.\n",
       "   - If the `\"author\"` key does not exist in the dictionary, `get` will return `None` by default.\n",
       "\n",
       "4. **`if book.get(\"author\")`:**\n",
       "   - This conditional filter is applied in the comprehension to ensure that only books that have an `\"author\"` value (not `None`) are processed. \n",
       "   - If the author key exists and has a value, that value will be added to the resulting set.\n",
       "\n",
       "5. **Overall Functionality:**\n",
       "   - In summary, this code snippet constructs a set of unique authors from a collection of book dictionaries (from `books`) while ignoring dictionaries that do not have a valid author.\n",
       "   - Using `yield from` means that this entire set of unique authors will be yielded by a generator function in a way that each author can be consumed one at a time.\n",
       "\n",
       "### Example Context\n",
       "\n",
       "Suppose we have a list of books like this:\n",
       "\n",
       "python\n",
       "books = [\n",
       "    {\"title\": \"Book A\", \"author\": \"Author 1\"},\n",
       "    {\"title\": \"Book B\", \"author\": \"Author 2\"},\n",
       "    {\"title\": \"Book C\", \"author\": None},\n",
       "    {\"title\": \"Book D\", \"author\": \"Author 1\"},\n",
       "]\n",
       "\n",
       "\n",
       "When this code runs:\n",
       "\n",
       "1. It would iterate over each `book` in `books`.\n",
       "2. For each `book`, it checks if `book.get(\"author\")` returns a truthy value.\n",
       "3. It collects unique authors: \"Author 1\" and \"Author 2\" (not \"Author 1\" again since it's a set).\n",
       "4. Finally, `yield from` will yield each unique author found.\n",
       "\n",
       "### Benefits\n",
       "\n",
       "- **Efficiency:** Using set comprehension prevents duplicate authors, ensuring that the final output is a unique collection.\n",
       "- **Conciseness:** The use of `yield from` simplifies the code structure, eliminating the need for additional loops or complex generator logic.\n",
       "- **Readability:** Even though comprehension might seem compact, it clearly conveys the intent of gathering authors from a list of book dictionaries.\n",
       "\n",
       "### Example Usage in A Generator Function\n",
       "\n",
       "This code might be part of a generator function, for instance:\n",
       "\n",
       "python\n",
       "def get_unique_authors(books):\n",
       "    yield from {book.get(\"author\") for book in books if book.get(\"author\")}\n",
       "\n",
       "# Example call\n",
       "for author in get_unique_authors(books):\n",
       "    print(author)\n",
       "\n",
       "\n",
       "This would output:\n",
       "\n",
       "\n",
       "Author 1\n",
       "Author 2\n",
       "\n",
       "\n",
       "Thus, in summary, `yield from {book.get(\"author\") for book in books if book.get(\"author\")}` efficiently collects and yields unique authors from a list of books, filtering out any missing or `None` values."
      ],
      "text/plain": [
       "<IPython.core.display.Markdown object>"
      ]
     },
     "metadata": {},
     "output_type": "display_data"
    }
   ],
   "source": [
    "# Get gpt-4o-mini to answer, with streaming\n",
    "\n",
    "stream = openai.chat.completions.create(model=MODEL_GPT, messages=messages,stream=True)\n",
    "    \n",
    "response = \"\"\n",
    "display_handle = display(Markdown(\"\"), display_id=True)\n",
    "for chunk in stream:\n",
    "    response += chunk.choices[0].delta.content or ''\n",
    "    response = response.replace(\"```\",\"\").replace(\"markdown\", \"\")\n",
    "    update_display(Markdown(response), display_id=display_handle.display_id)"
   ]
  },
  {
   "cell_type": "code",
   "execution_count": 8,
   "id": "8f7c8ea8-4082-4ad0-8751-3301adcf6538",
   "metadata": {},
   "outputs": [
    {
     "data": {
      "text/markdown": [
       "**Generator Expression Explanation**\n",
       "\n",
       "The given code snippet is a generator expression, which is used to generate a sequence of values on-the-fly without storing them all in memory at once. Let's break it down:\n",
       "\n",
       "```python\n",
       "yield from {book.get(\"author\") for book in books if book.get(\"author\")}\n",
       "```\n",
       "\n",
       "Here's what happens step-by-step:\n",
       "\n",
       "1. **Dictionary Comprehension**: `{book.get(\"author\") for book in books if book.get(\"author\")}` is a dictionary comprehension. It iterates over the `books` list and filters out any items that don't have an \"author\" key.\n",
       "\n",
       "2. **Generator Expression**: `yield from {...}` is a generator expression, which is a concise way to define a generator function. The `yield from` clause tells Python to delegate the iteration to the inner iterable (in this case, the dictionary comprehension).\n",
       "\n",
       "3. **Delegation of Iteration**: When we use `yield from`, Python will iterate over the values yielded by the inner expression and yield them one by one.\n",
       "\n",
       "**Why is it useful?**\n",
       "\n",
       "This code snippet is particularly useful when you have a large dataset (`books`) and you want to process each item individually without loading all the data into memory at once. Generator expressions are an efficient way to handle such scenarios, as they avoid creating unnecessary intermediate lists or data structures.\n",
       "\n",
       "In this specific example, if we assume that `book.get(\"author\")` returns a string value (e.g., \"John Doe\"), then this generator expression will yield a sequence of strings representing the authors of all books with available author information.\n",
       "\n",
       "**Example Usage**\n",
       "\n",
       "Suppose you have the following dictionary containing book data:\n",
       "```python\n",
       "books = [\n",
       "    {\"title\": \"Book 1\", \"author\": \"Jane Smith\"},\n",
       "    {\"title\": \"Book 2\", \"author\": None},\n",
       "    {\"title\": \"Book 3\", \"author\": \"Bob Johnson\"}\n",
       "]\n",
       "```\n",
       "If we call the generator expression, it will yield:\n",
       "```python\n",
       "['Jane Smith', 'Bob Johnson']\n",
       "```\n",
       "Note that `None`-value books are skipped because they don't have an \"author\" key.\n",
       "\n",
       "**Equivalent Loop**\n",
       "\n",
       "For comparison, here's how you would achieve the same result using a traditional for loop and list comprehension:\n",
       "```python\n",
       "authors = []\n",
       "for book in books:\n",
       "    if book.get(\"author\"):\n",
       "        authors.append(book[\"author\"])\n",
       "\n",
       "# authors is now a list containing ['Jane Smith', 'Bob Johnson']\n",
       "```\n",
       "However, the generator expression version is more memory-efficient, especially when dealing with large datasets."
      ],
      "text/plain": [
       "<IPython.core.display.Markdown object>"
      ]
     },
     "metadata": {},
     "output_type": "display_data"
    }
   ],
   "source": [
    "# Get Llama 3.2 to answer\n",
    "\n",
    "response = ollama.chat(model=MODEL_LLAMA, messages=messages)\n",
    "reply = response['message']['content']\n",
    "display(Markdown(reply))"
   ]
  },
  {
   "cell_type": "markdown",
   "id": "7e14bcdb-b928-4b14-961e-9f7d8c7335bf",
   "metadata": {},
   "source": [
    "# Congratulations!\n",
    "\n",
    "You could make it better by taking in the question using  \n",
    "`my_question = input(\"Please enter your question:\")`\n",
    "\n",
    "And then creating the prompts and making the calls interactively."
   ]
  },
  {
   "cell_type": "code",
   "execution_count": null,
   "id": "da663d73-dd2a-4fff-84df-2209cf2b330b",
   "metadata": {},
   "outputs": [],
   "source": []
  }
 ],
 "metadata": {
  "kernelspec": {
   "display_name": "llms",
   "language": "python",
   "name": "python3"
  },
  "language_info": {
   "codemirror_mode": {
    "name": "ipython",
    "version": 3
   },
   "file_extension": ".py",
   "mimetype": "text/x-python",
   "name": "python",
   "nbconvert_exporter": "python",
   "pygments_lexer": "ipython3",
   "version": "3.11.11"
  }
 },
 "nbformat": 4,
 "nbformat_minor": 5
}
