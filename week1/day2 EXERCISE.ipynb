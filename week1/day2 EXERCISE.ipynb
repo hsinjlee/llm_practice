{
 "cells": [
  {
   "cell_type": "markdown",
   "id": "6e9fa1fc-eac5-4d1d-9be4-541b3f2b3458",
   "metadata": {},
   "source": [
    "# HOMEWORK EXERCISE ASSIGNMENT\n",
    "\n",
    "Upgrade the day 1 project to summarize a webpage to use an Open Source model running locally via Ollama rather than OpenAI\n",
    "\n",
    "You'll be able to use this technique for all subsequent projects if you'd prefer not to use paid APIs.\n",
    "\n",
    "**Benefits:**\n",
    "1. No API charges - open-source\n",
    "2. Data doesn't leave your box\n",
    "\n",
    "**Disadvantages:**\n",
    "1. Significantly less power than Frontier Model\n",
    "\n",
    "## Recap on installation of Ollama\n",
    "\n",
    "Simply visit [ollama.com](https://ollama.com) and install!\n",
    "\n",
    "Once complete, the ollama server should already be running locally.  \n",
    "If you visit:  \n",
    "[http://localhost:11434/](http://localhost:11434/)\n",
    "\n",
    "You should see the message `Ollama is running`.  \n",
    "\n",
    "If not, bring up a new Terminal (Mac) or Powershell (Windows) and enter `ollama serve`  \n",
    "And in another Terminal (Mac) or Powershell (Windows), enter `ollama pull llama3.2`  \n",
    "Then try [http://localhost:11434/](http://localhost:11434/) again.\n",
    "\n",
    "If Ollama is slow on your machine, try using `llama3.2:1b` as an alternative. Run `ollama pull llama3.2:1b` from a Terminal or Powershell, and change the code below from `MODEL = \"llama3.2\"` to `MODEL = \"llama3.2:1b\"`"
   ]
  },
  {
   "cell_type": "code",
   "execution_count": null,
   "id": "4e2a9393-7767-488e-a8bf-27c12dca35bd",
   "metadata": {},
   "outputs": [],
   "source": [
    "# imports\n",
    "\n",
    "import requests\n",
    "from bs4 import BeautifulSoup\n",
    "from IPython.display import Markdown, display"
   ]
  },
  {
   "cell_type": "code",
   "execution_count": 8,
   "id": "29ddd15d-a3c5-4f4e-a678-873f56162724",
   "metadata": {},
   "outputs": [],
   "source": [
    "# Constants\n",
    "\n",
    "OLLAMA_API = \"http://localhost:11434/api/chat\"\n",
    "HEADERS = {\"Content-Type\": \"application/json\"}\n",
    "MODEL = \"llama3.2\""
   ]
  },
  {
   "cell_type": "code",
   "execution_count": 10,
   "id": "dac0a679-599c-441f-9bf2-ddc73d35b940",
   "metadata": {},
   "outputs": [],
   "source": [
    "# Create a messages list using the same format that we used for OpenAI\n",
    "\n",
    "messages = [\n",
    "    {\"role\": \"user\", \"content\": \"Describe some of the business applications of Generative AI\"}\n",
    "]"
   ]
  },
  {
   "cell_type": "code",
   "execution_count": 11,
   "id": "7bb9c624-14f0-4945-a719-8ddb64f66f47",
   "metadata": {},
   "outputs": [],
   "source": [
    "payload = {\n",
    "        \"model\": MODEL,\n",
    "        \"messages\": messages,\n",
    "        \"stream\": False\n",
    "    }"
   ]
  },
  {
   "cell_type": "code",
   "execution_count": null,
   "id": "42b9f644-522d-4e05-a691-56e7658c0ea9",
   "metadata": {},
   "outputs": [
    {
     "name": "stdout",
     "output_type": "stream",
     "text": [
      "Generative AI has numerous business applications across various industries, including:\n",
      "\n",
      "1. **Content Creation**: Generative AI can be used to generate high-quality content such as:\n",
      " * Blog posts and articles\n",
      " * Social media posts and ads\n",
      " * Product descriptions and reviews\n",
      " * Videos and animations\n",
      "2. **Product Design**: Generative AI can aid in the design of products by:\n",
      " * Generating 3D models and prototypes\n",
      " * Creating product specifications and documentation\n",
      " * Developing new product ideas and concepts\n",
      "3. **Marketing Automation**: Generative AI can help automate marketing processes, such as:\n",
      " * Personalized email campaigns and messages\n",
      " * Social media content generation\n",
      " * Chatbots and customer service automation\n",
      "4. **Data Analysis**: Generative AI can be used to analyze large datasets by:\n",
      " * Identifying patterns and trends\n",
      " * Predicting future outcomes\n",
      " * Generating insights and recommendations\n",
      "5. **Customer Service**: Generative AI can improve customer service by:\n",
      " * Providing personalized support and responses\n",
      " * Automating routine queries and issues\n",
      " * Enhancing the overall customer experience\n",
      "6. **Financial Analysis**: Generative AI can aid in financial analysis by:\n",
      " * Predicting market trends and patterns\n",
      " * Identifying potential risks and opportunities\n",
      " * Generating investment recommendations\n",
      "7. **Supply Chain Optimization**: Generative AI can optimize supply chain operations by:\n",
      " * Predicting demand and inventory levels\n",
      " * Identifying bottlenecks and inefficiencies\n",
      " * Developing optimal logistics and transportation routes\n",
      "8. **Cybersecurity**: Generative AI can be used to enhance cybersecurity by:\n",
      " * Detecting and predicting threats\n",
      " * Generating new security protocols and measures\n",
      " * Analyzing network traffic and behavior patterns\n",
      "9. **Healthcare**: Generative AI can improve healthcare outcomes by:\n",
      " * Analyzing medical images and data\n",
      " * Predicting patient outcomes and disease progression\n",
      " * Developing personalized treatment plans and recommendations\n",
      "10. **Education**: Generative AI can enhance education by:\n",
      " * Creating personalized learning plans and materials\n",
      " * Generating adaptive assessments and evaluations\n",
      " * Providing real-time feedback and support\n",
      "\n",
      "These are just a few examples of the many business applications of Generative AI. As the technology continues to evolve, we can expect to see even more innovative uses across various industries.\n"
     ]
    }
   ],
   "source": [
    "response = requests.post(OLLAMA_API, json=payload, headers=HEADERS)\n",
    "print(response.json()['message']['content'])"
   ]
  },
  {
   "cell_type": "markdown",
   "id": "6a021f13-d6a1-4b96-8e18-4eae49d876fe",
   "metadata": {},
   "source": [
    "# Introducing the ollama package\n",
    "\n",
    "And now we'll do the same thing, but using the elegant ollama python package instead of a direct HTTP call.\n",
    "\n",
    "Under the hood, it's making the same call as above to the ollama server running at localhost:11434"
   ]
  },
  {
   "cell_type": "code",
   "execution_count": null,
   "id": "7745b9c4-57dc-4867-9180-61fa5db55eb8",
   "metadata": {},
   "outputs": [
    {
     "name": "stdout",
     "output_type": "stream",
     "text": [
      "Generative AI has numerous business applications across various industries, including:\n",
      "\n",
      "1. **Content Creation**: AI-generated content such as articles, social media posts, and product descriptions can be used to automate content creation, saving time and resources.\n",
      "2. **Marketing Automation**: Generative AI can help create personalized marketing campaigns, product recommendations, and customer communications, improving customer engagement and conversion rates.\n",
      "3. **Product Design**: AI-powered generative design tools can create new product designs, prototypes, and concepts, streamlining the product development process and reducing costs.\n",
      "4. **Data Analysis**: Generative AI can analyze large datasets, identify patterns, and generate insights, helping businesses make data-driven decisions.\n",
      "5. **Customer Service Chatbots**: AI-generated chatbots can provide 24/7 customer support, answering common questions, and routing complex issues to human representatives.\n",
      "6. **Image and Video Generation**: Generative AI can create realistic images and videos for advertising, product demonstrations, and other marketing purposes.\n",
      "7. **Music and Audio Generation**: AI-powered music composition tools can generate original music tracks, sound effects, and audio enhancements for film, video games, and other applications.\n",
      "8. **Language Translation**: Generative AI can translate languages in real-time, enabling businesses to expand into international markets without language barriers.\n",
      "9. **Predictive Maintenance**: AI-generated predictive models can forecast equipment failures, reducing downtime and improving overall equipment effectiveness (OEE).\n",
      "10. **Financial Forecasting**: Generative AI can analyze financial data, identify trends, and predict future market conditions, helping businesses make informed investment decisions.\n",
      "\n",
      "Some notable business applications of Generative AI include:\n",
      "\n",
      "* **DALL-E** (image generation) - used by Google, Microsoft, and other companies for image generation, product design, and advertising.\n",
      "* **Midjourney** (image generation) - used by art organizations, designers, and advertisers to create unique artwork, prototypes, and marketing materials.\n",
      "* **Google's AutoML** (automated machine learning) - used by businesses to automate data analysis, predictive modeling, and content creation.\n",
      "\n",
      "As Generative AI continues to evolve, we can expect even more innovative applications across various industries, including healthcare, education, and finance.\n"
     ]
    }
   ],
   "source": [
    "import ollama\n",
    "\n",
    "response = ollama.chat(model=MODEL, messages=messages)\n",
    "print(response['message']['content'])"
   ]
  },
  {
   "cell_type": "markdown",
   "id": "a4704e10-f5fb-4c15-a935-f046c06fb13d",
   "metadata": {},
   "source": [
    "## Alternative approach - using OpenAI python library to connect to Ollama"
   ]
  },
  {
   "cell_type": "code",
   "execution_count": null,
   "id": "23057e00-b6fc-4678-93a9-6b31cb704bff",
   "metadata": {},
   "outputs": [
    {
     "name": "stdout",
     "output_type": "stream",
     "text": [
      "Generative AI has numerous business applications across various industries, including:\n",
      "\n",
      "1. **Content Creation**: Generate high-quality content such as articles, social media posts, product descriptions, and more, reducing content creation costs and improving efficiency.\n",
      "2. **Chatbots and Virtual Assistants**: Create conversational interfaces that can understand voice commands, respond, and even adapt to user behavior, enhancing customer support and experience.\n",
      "3. **Marketing Automation**: Develop AI-generated lead magnets, such as e-books and webinars, to attract potential customers and streamline marketing campaigns.\n",
      "4. **Predictive Analytics**: Use generative models to forecast sales, demand, and other business metrics, enabling data-driven decision-making and improved forecasting accuracy.\n",
      "5. **Image and Video Generation**: Generate product images, videos, and augmented reality experiences that showcase products in different scenarios, reducing the need for physical prototypes and improving online shopping experiences.\n",
      "6. **Automated Customer Service**: Develop AI-powered chatbots that can respond to customer inquiries, resolve issues, and provide personalized recommendations.\n",
      "7. **Real Estate and Architecture**: Generate 3D models and virtual tours of properties, allowing potential buyers to explore and interact with spaces remotely.\n",
      "8. **Financial Services**: Use generative models to create detailed financial projections, risk analyses, and investment strategies, enhancing the accuracy of business decision-making.\n",
      "9. **Digital Product Design**: Develop AI-generated product designs, reducing design time and costs while improving product quality and user experience.\n",
      "10. **Training Data Generation**: Create large-scale datasets for machine learning models, augmenting existing training data and accelerating development timelines.\n",
      "11. **Cybersecurity Threat Scenario Simulation**: Generate realistic threat scenarios to test an organization's defenses and identify vulnerabilities.\n",
      "12. **Digital Content Writing**: Use AI-generated content tools to assist human writers in generating high-quality content, such as blog posts, press releases, and more.\n",
      "13. **Business Intelligence**: Develop AI-powered business intelligence platforms that can analyze large datasets and generate actionable insights for decision-making.\n",
      "14. **Customer Segmentation**: Use generative models to identify unique customer segments based on behavior and preferences, improving targeted marketing and sales efforts.\n",
      "15. **Predictive Maintenance**: Generate predictive models that forecast equipment failures, reducing downtime and improving overall asset efficiency.\n",
      "\n",
      "These applications of Generative AI are transforming industries by increasing efficiency, enhancing customer experience, and driving business innovation.\n"
     ]
    }
   ],
   "source": [
    "# There's actually an alternative approach that some people might prefer\n",
    "# You can use the OpenAI client python library to call Ollama:\n",
    "\n",
    "from openai import OpenAI\n",
    "ollama_via_openai = OpenAI(base_url='http://localhost:11434/v1', api_key='ollama')\n",
    "\n",
    "response = ollama_via_openai.chat.completions.create(\n",
    "    model=MODEL,\n",
    "    messages=messages\n",
    ")\n",
    "\n",
    "print(response.choices[0].message.content)"
   ]
  },
  {
   "cell_type": "markdown",
   "id": "1622d9bb-5c68-4d4e-9ca4-b492c751f898",
   "metadata": {},
   "source": [
    "# NOW the exercise for you\n",
    "\n",
    "Take the code from day1 and incorporate it here, to build a website summarizer that uses Llama 3.2 running locally instead of OpenAI; use either of the above approaches."
   ]
  },
  {
   "cell_type": "code",
   "execution_count": null,
   "id": "402d5686-4e76-4110-b65a-b3906c35c0a4",
   "metadata": {},
   "outputs": [],
   "source": []
  }
 ],
 "metadata": {
  "kernelspec": {
   "display_name": "llms",
   "language": "python",
   "name": "python3"
  },
  "language_info": {
   "codemirror_mode": {
    "name": "ipython",
    "version": 3
   },
   "file_extension": ".py",
   "mimetype": "text/x-python",
   "name": "python",
   "nbconvert_exporter": "python",
   "pygments_lexer": "ipython3",
   "version": "3.11.11"
  }
 },
 "nbformat": 4,
 "nbformat_minor": 5
}
