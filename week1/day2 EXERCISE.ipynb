{
 "cells": [
  {
   "cell_type": "markdown",
   "id": "6e9fa1fc-eac5-4d1d-9be4-541b3f2b3458",
   "metadata": {},
   "source": [
    "# HOMEWORK EXERCISE ASSIGNMENT\n",
    "\n",
    "Upgrade the day 1 project to summarize a webpage to use an Open Source model running locally via Ollama rather than OpenAI\n",
    "\n",
    "You'll be able to use this technique for all subsequent projects if you'd prefer not to use paid APIs.\n",
    "\n",
    "**Benefits:**\n",
    "1. No API charges - open-source\n",
    "2. Data doesn't leave your box\n",
    "\n",
    "**Disadvantages:**\n",
    "1. Significantly less power than Frontier Model\n",
    "\n",
    "## Recap on installation of Ollama\n",
    "\n",
    "Simply visit [ollama.com](https://ollama.com) and install!\n",
    "\n",
    "Once complete, the ollama server should already be running locally.  \n",
    "If you visit:  \n",
    "[http://localhost:11434/](http://localhost:11434/)\n",
    "\n",
    "You should see the message `Ollama is running`.  \n",
    "\n",
    "If not, bring up a new Terminal (Mac) or Powershell (Windows) and enter `ollama serve`  \n",
    "And in another Terminal (Mac) or Powershell (Windows), enter `ollama pull llama3.2`  \n",
    "Then try [http://localhost:11434/](http://localhost:11434/) again.\n",
    "\n",
    "If Ollama is slow on your machine, try using `llama3.2:1b` as an alternative. Run `ollama pull llama3.2:1b` from a Terminal or Powershell, and change the code below from `MODEL = \"llama3.2\"` to `MODEL = \"llama3.2:1b\"`"
   ]
  },
  {
   "cell_type": "code",
   "execution_count": 2,
   "id": "4e2a9393-7767-488e-a8bf-27c12dca35bd",
   "metadata": {},
   "outputs": [],
   "source": [
    "# imports\n",
    "\n",
    "import requests\n",
    "from bs4 import BeautifulSoup\n",
    "from IPython.display import Markdown, display"
   ]
  },
  {
   "cell_type": "code",
   "execution_count": 3,
   "id": "29ddd15d-a3c5-4f4e-a678-873f56162724",
   "metadata": {},
   "outputs": [],
   "source": [
    "# Constants\n",
    "\n",
    "OLLAMA_API = \"http://localhost:11434/api/chat\"\n",
    "HEADERS = {\"Content-Type\": \"application/json\"}\n",
    "MODEL = \"llama3.2\""
   ]
  },
  {
   "cell_type": "code",
   "execution_count": 4,
   "id": "dac0a679-599c-441f-9bf2-ddc73d35b940",
   "metadata": {},
   "outputs": [],
   "source": [
    "# Create a messages list using the same format that we used for OpenAI\n",
    "\n",
    "messages = [\n",
    "    {\"role\": \"user\", \"content\": \"Describe some of the business applications of Generative AI\"}\n",
    "]"
   ]
  },
  {
   "cell_type": "code",
   "execution_count": 5,
   "id": "7bb9c624-14f0-4945-a719-8ddb64f66f47",
   "metadata": {},
   "outputs": [],
   "source": [
    "payload = {\n",
    "        \"model\": MODEL,\n",
    "        \"messages\": messages,\n",
    "        \"stream\": False\n",
    "    }"
   ]
  },
  {
   "cell_type": "code",
   "execution_count": 6,
   "id": "42b9f644-522d-4e05-a691-56e7658c0ea9",
   "metadata": {},
   "outputs": [
    {
     "name": "stdout",
     "output_type": "stream",
     "text": [
      "Generative AI has numerous business applications across various industries, including:\n",
      "\n",
      "1. **Content Creation**: Generative AI can generate high-quality content such as articles, social media posts, product descriptions, and more, at a fraction of the cost and time required by human writers.\n",
      "2. **Marketing Automation**: Generative AI can create personalized marketing campaigns, emails, and ads based on customer data and behavior, leading to increased engagement and conversion rates.\n",
      "3. **Customer Service Chatbots**: Generative AI-powered chatbots can provide 24/7 support to customers, answering their queries and resolving issues in a timely and efficient manner.\n",
      "4. **Product Design**: Generative AI can design new products, such as furniture, clothing, or electronics, based on user preferences and design specifications.\n",
      "5. **Image and Video Generation**: Generative AI can create high-quality images and videos for various applications, including advertising, entertainment, and education.\n",
      "6. **Data Analysis and Visualization**: Generative AI can analyze large datasets and generate insights, visualizations, and predictive models to help businesses make informed decisions.\n",
      "7. **Music and Audio Generation**: Generative AI can compose music, create sound effects, and even generate voiceovers for videos and podcasts.\n",
      "8. **Language Translation**: Generative AI can translate languages in real-time, breaking language barriers and enabling global communication.\n",
      "9. **Predictive Maintenance**: Generative AI can analyze sensor data from industrial equipment and predict when maintenance is required, reducing downtime and increasing efficiency.\n",
      "10. **Financial Modeling**: Generative AI can create complex financial models, simulate scenarios, and provide predictive insights to help businesses make informed investment decisions.\n",
      "11. **Personalized Recommendations**: Generative AI can generate personalized product recommendations based on customer behavior, preferences, and purchase history.\n",
      "12. **Supply Chain Optimization**: Generative AI can analyze data from various sources and optimize supply chain operations, predicting demand and inventory levels.\n",
      "13. **Cybersecurity Threat Analysis**: Generative AI can analyze network traffic patterns and predict potential cyber threats, enabling proactive security measures.\n",
      "14. **Medical Imaging Analysis**: Generative AI can analyze medical images to help diagnose diseases earlier and more accurately.\n",
      "15. **Education and Learning**: Generative AI can create personalized learning plans, generate educational content, and provide adaptive assessments.\n",
      "\n",
      "These are just a few examples of the many business applications of Generative AI. As the technology continues to evolve, we can expect even more innovative use cases across various industries.\n"
     ]
    }
   ],
   "source": [
    "response = requests.post(OLLAMA_API, json=payload, headers=HEADERS)\n",
    "print(response.json()['message']['content'])"
   ]
  },
  {
   "cell_type": "markdown",
   "id": "6a021f13-d6a1-4b96-8e18-4eae49d876fe",
   "metadata": {},
   "source": [
    "# Introducing the ollama package\n",
    "\n",
    "And now we'll do the same thing, but using the elegant ollama python package instead of a direct HTTP call.\n",
    "\n",
    "Under the hood, it's making the same call as above to the ollama server running at localhost:11434"
   ]
  },
  {
   "cell_type": "code",
   "execution_count": 7,
   "id": "7745b9c4-57dc-4867-9180-61fa5db55eb8",
   "metadata": {},
   "outputs": [
    {
     "name": "stdout",
     "output_type": "stream",
     "text": [
      "Generative AI has numerous business applications across various industries, including:\n",
      "\n",
      "1. **Content Creation**: Generate high-quality content such as blog posts, social media posts, product descriptions, and more, using text or image generation capabilities.\n",
      "2. **Product Design**: Use generative AI to design new products, logos, and packaging designs, reducing the need for human designers and speeding up the design process.\n",
      "3. **Marketing Automation**: Automate personalized marketing campaigns by generating targeted content, offers, and messages based on customer behavior and preferences.\n",
      "4. **Customer Service Chatbots**: Develop conversational AI chatbots that can respond to customer inquiries, providing 24/7 support and improving customer satisfaction.\n",
      "5. **Image and Video Generation**: Create realistic images and videos for advertising, product demonstrations, or training purposes, reducing the need for expensive image editing software.\n",
      "6. **Speech Synthesis**: Generate high-quality speech for voice assistants, audiobooks, and voice-activated marketing campaigns.\n",
      "7. **Predictive Analytics**: Use generative AI to forecast sales, customer behavior, and market trends, enabling data-driven decision-making and predictive modeling.\n",
      "8. **Influencer Marketing**: Analyze social media trends and generate content recommendations for influencers, helping them create engaging content that resonates with their audience.\n",
      "9. **Data Augmentation**: Enhance existing datasets by generating new, high-quality data points, improving machine learning model performance and reducing the need for large amounts of labeled data.\n",
      "10. **Financial Modeling**: Create detailed financial models using generative AI to simulate scenarios, predict outcomes, and optimize investment strategies.\n",
      "\n",
      "Industries that are particularly well-suited for Generative AI applications include:\n",
      "\n",
      "1. **Marketing and Advertising**\n",
      "2. **E-commerce and Retail**\n",
      "3. **Healthcare and Biotechnology**\n",
      "4. **Finance and Banking**\n",
      "5. **Education and Training**\n",
      "6. **Manufacturing and Supply Chain Management**\n",
      "7. **Customer Service and Support**\n",
      "\n",
      "By leveraging generative AI, businesses can:\n",
      "\n",
      "1. Increase efficiency and productivity\n",
      "2. Improve customer engagement and satisfaction\n",
      "3. Enhance decision-making capabilities\n",
      "4. Reduce costs and improve resource allocation\n",
      "5. Stay ahead of the competition in terms of innovation and creativity\n"
     ]
    }
   ],
   "source": [
    "import ollama\n",
    "\n",
    "response = ollama.chat(model=MODEL, messages=messages)\n",
    "print(response['message']['content'])"
   ]
  },
  {
   "cell_type": "markdown",
   "id": "a4704e10-f5fb-4c15-a935-f046c06fb13d",
   "metadata": {},
   "source": [
    "## Alternative approach - using OpenAI python library to connect to Ollama"
   ]
  },
  {
   "cell_type": "code",
   "execution_count": 8,
   "id": "23057e00-b6fc-4678-93a9-6b31cb704bff",
   "metadata": {},
   "outputs": [
    {
     "name": "stdout",
     "output_type": "stream",
     "text": [
      "Generative AI has numerous Business Applications across various industries, including:\n",
      "\n",
      "1. **Content Generation**: AI-powered tools can generate high-quality content such as blog posts, social media posts, product descriptions, and more. This automation saves time and resources for businesses to focus on other activities.\n",
      "2. **Design and Visualization**: Generative AI can be used to create visual designs, such as logos, infographics, and presentations, reducing the need for manual design efforts.\n",
      "3. **Product Design and Development**: AI-powered tools can help generate product ideas, prototype designs, and optimize product features using data-driven insights.\n",
      "4. **Marketing Automation**: Generative AI can be used to automate marketing campaigns by generating personalized content, social media posts, and email newsletters that resonate with target audiences.\n",
      "5. **Customer Service Chatbots**: AI-powered chatbots can be generated to provide 24/7 customer support, answering frequently asked questions and helping customers solve common issues.\n",
      "6. **Predictive Analytics and Forecasting**: Generative AI can analyze historical data and generate predictive models for industries such as finance, healthcare, and retail, enabling informed business decisions.\n",
      "7. **Content Editing and Proofreading**: AI-powered tools can help automate content editing and proofreading, ensuring accuracy and consistency in written content.\n",
      "8. **Music and Audio Generation**: Generative AI can be used to create original music, audio loops, and sound effects for various applications such as film, television, and advertising.\n",
      "9. **Data Visualization**: AI-powered tools can generate interactive visualizations of complex data sets, enabling insights into patterns and trends.\n",
      "10. **Human Resource Management**: Generative AI can analyze workflows, automate administrative tasks, and provide personalized HR recommendations to improve employee engagement.\n",
      "\n",
      "Some industries may include:\n",
      "- Automotive (Automotive designs such as cars, etc.)\n",
      "- Fashion (Clothing design and creation)\n",
      "- Art (Artificial creation of unique paintings)\n",
      "- Music (Creation of new styles)\n",
      "- Healthcare: Drug discovery through AI assistance\n",
      "- Manufacturing: Predictive maintenance for improving efficiency\n"
     ]
    }
   ],
   "source": [
    "# There's actually an alternative approach that some people might prefer\n",
    "# You can use the OpenAI client python library to call Ollama:\n",
    "\n",
    "from openai import OpenAI\n",
    "ollama_via_openai = OpenAI(base_url='http://localhost:11434/v1', api_key='ollama')\n",
    "\n",
    "response = ollama_via_openai.chat.completions.create(\n",
    "    model=MODEL,\n",
    "    messages=messages\n",
    ")\n",
    "\n",
    "print(response.choices[0].message.content)"
   ]
  },
  {
   "cell_type": "markdown",
   "id": "1622d9bb-5c68-4d4e-9ca4-b492c751f898",
   "metadata": {},
   "source": [
    "# NOW the exercise for you\n",
    "\n",
    "Take the code from day1 and incorporate it here, to build a website summarizer that uses Llama 3.2 running locally instead of OpenAI; use either of the above approaches."
   ]
  },
  {
   "cell_type": "code",
   "execution_count": null,
   "id": "402d5686-4e76-4110-b65a-b3906c35c0a4",
   "metadata": {},
   "outputs": [],
   "source": []
  }
 ],
 "metadata": {
  "kernelspec": {
   "display_name": "llms",
   "language": "python",
   "name": "python3"
  },
  "language_info": {
   "codemirror_mode": {
    "name": "ipython",
    "version": 3
   },
   "file_extension": ".py",
   "mimetype": "text/x-python",
   "name": "python",
   "nbconvert_exporter": "python",
   "pygments_lexer": "ipython3",
   "version": "3.11.11"
  }
 },
 "nbformat": 4,
 "nbformat_minor": 5
}
